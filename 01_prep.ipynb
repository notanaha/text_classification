{
 "cells": [
  {
   "cell_type": "markdown",
   "id": "08062c63",
   "metadata": {},
   "source": [
    "<h2>テキスト分類の対象データ準備</h2>"
   ]
  },
  {
   "cell_type": "markdown",
   "id": "a909b8ba",
   "metadata": {},
   "source": [
    "<h3>圧縮ファイルを解凍します</h3>"
   ]
  },
  {
   "cell_type": "code",
   "execution_count": null,
   "id": "50383897",
   "metadata": {},
   "outputs": [],
   "source": [
    "# !wget https://www.rondhuit.com/download/ldcc-20140209.tar.gz  <==オリジナルファイルをレシーブするにはこちらのコマンドを使う\n",
    "\n",
    "!tar zxvf ./ldcc-20140209.tar.gz"
   ]
  },
  {
   "cell_type": "markdown",
   "id": "0a5803c8",
   "metadata": {},
   "source": [
    "<h3>不要なファイルを削除します</h3>\n",
    "\n",
    "- 精度に影響を与えるので確実に実行しましょう"
   ]
  },
  {
   "cell_type": "code",
   "execution_count": null,
   "id": "0a812acc",
   "metadata": {},
   "outputs": [],
   "source": [
    "!rm ./text/CHANGES.txt\n",
    "!rm ./text/README.txt\n",
    "!rm ./text/*/LICENSE.txt"
   ]
  },
  {
   "cell_type": "markdown",
   "id": "62be4825",
   "metadata": {},
   "source": [
    "<h3>テキストデータを読込んで不要な URL、日付、改行コードを削除します</h3>\n",
    "\n",
    "- またトピックごとに番号でラベルをつけます\n"
   ]
  },
  {
   "cell_type": "code",
   "execution_count": null,
   "id": "22e94f91",
   "metadata": {},
   "outputs": [],
   "source": [
    "import doc_prep"
   ]
  },
  {
   "cell_type": "code",
   "execution_count": null,
   "id": "a2618c1b",
   "metadata": {},
   "outputs": [],
   "source": [
    "doc_prep.preprocess('document1.pkl', 'label1.pkl')"
   ]
  }
 ],
 "metadata": {
  "kernelspec": {
   "display_name": "Python (text_env)",
   "language": "python",
   "name": "text_env"
  },
  "language_info": {
   "codemirror_mode": {
    "name": "ipython",
    "version": 3
   },
   "file_extension": ".py",
   "mimetype": "text/x-python",
   "name": "python",
   "nbconvert_exporter": "python",
   "pygments_lexer": "ipython3",
   "version": "3.6.13"
  }
 },
 "nbformat": 4,
 "nbformat_minor": 5
}
