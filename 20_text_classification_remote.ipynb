{
 "cells": [
  {
   "cell_type": "markdown",
   "metadata": {},
   "source": [
    "<h3>コンピュートクラスタでトレーニングを実行します</h3>"
   ]
  },
  {
   "cell_type": "markdown",
   "metadata": {},
   "source": [
    "<h4>エクスポートしたデータを読込みます</h4>"
   ]
  },
  {
   "cell_type": "code",
   "execution_count": null,
   "metadata": {},
   "outputs": [],
   "source": [
    "import numpy as np\n",
    "npz = np.load('docdata1.npz')\n",
    "print(npz.files)\n",
    "x = npz['arr_0']\n",
    "y = npz['arr_1']"
   ]
  },
  {
   "cell_type": "markdown",
   "metadata": {},
   "source": [
    "<h4>読込んだ内容を確認します</h4> "
   ]
  },
  {
   "cell_type": "code",
   "execution_count": null,
   "metadata": {},
   "outputs": [],
   "source": [
    "print(x.shape)\n",
    "print(y.shape)\n",
    "print(x[0])\n",
    "print(y[0])"
   ]
  },
  {
   "cell_type": "markdown",
   "metadata": {},
   "source": [
    "<h4>Azureml パッケージをインポートします</h4> "
   ]
  },
  {
   "cell_type": "code",
   "execution_count": null,
   "metadata": {},
   "outputs": [],
   "source": [
    "from azureml.core import Workspace, Experiment, Dataset, Datastore, ScriptRunConfig\n",
    "from azureml.core.compute import ComputeTarget\n",
    "from azureml.core.compute_target import ComputeTargetException\n",
    "from azureml.data import OutputFileDatasetConfig\n",
    "from azureml.core import Environment\n",
    "from azureml.core.conda_dependencies import CondaDependencies\n",
    "from azureml.core.runconfig import DockerConfiguration\n",
    "\n",
    "workspace = Workspace.from_config()"
   ]
  },
  {
   "cell_type": "markdown",
   "metadata": {},
   "source": [
    "<h4>コンピュートターゲットを構成します</h4> "
   ]
  },
  {
   "cell_type": "code",
   "execution_count": null,
   "metadata": {},
   "outputs": [],
   "source": [
    "aml_compute_target = \"demo-cpucluster1\"  # <== 作成済コンピュートクラスタ名を指定してください\n",
    "try:\n",
    "    aml_compute = ComputeTarget(workspace, aml_compute_target)\n",
    "    print(\"found existing compute target.\")\n",
    "except ComputeTargetException:\n",
    "    print(\"no compute target with the specified name found\")"
   ]
  },
  {
   "cell_type": "markdown",
   "metadata": {},
   "source": [
    "<h4>データセットをロードします</h4> "
   ]
  },
  {
   "cell_type": "code",
   "execution_count": null,
   "metadata": {},
   "outputs": [],
   "source": [
    "def_blob_store = workspace.get_default_datastore()\n",
    "def_blob_store.upload_files(files = ['docdata1.npz'],\n",
    "                       target_path = 'workshop2/',\n",
    "                       overwrite = True,\n",
    "                       show_progress = True)\n",
    "\n",
    "input_data = Dataset.File.from_files(def_blob_store.path('workshop2/docdata1.npz')).as_named_input('input').as_mount()"
   ]
  },
  {
   "cell_type": "markdown",
   "metadata": {},
   "source": [
    "<h4>ハイパーパラメタを指定します</h4> \n",
    "<br>epochs = 20, batch_size = 128, drop_out = 0.3, hidden_dim = 100, layer_dim=2, embedding_dim = 200, vocab_size = 7295</br>"
   ]
  },
  {
   "cell_type": "code",
   "execution_count": null,
   "metadata": {},
   "outputs": [],
   "source": [
    "epochs = 20\n",
    "batch_size = 128\n",
    "drop_out = 0.3\n",
    "hidden_dim = 100\n",
    "layer_dim = 2\n",
    "embedding_dim = 200\n",
    "vocab_size = 7295"
   ]
  },
  {
   "cell_type": "markdown",
   "metadata": {},
   "source": [
    "<h4>ScriptiRunConfig を構成します</h4> "
   ]
  },
  {
   "cell_type": "code",
   "execution_count": null,
   "metadata": {},
   "outputs": [],
   "source": [
    "myenv = Environment(\"myenv\")\n",
    "\n",
    "myenv.python.conda_dependencies = CondaDependencies.create(pip_packages=[\n",
    "    'azureml-defaults',\n",
    "    'azureml-mlflow',\n",
    "    'numpy',\n",
    "    'mlflow',\n",
    "    'torch==1.8.1',\n",
    "    'pytorch-lightning==1.3.1'\n",
    "])\n",
    "\n",
    "docker_config = DockerConfiguration(use_docker=True)\n",
    "\n",
    "src = ScriptRunConfig(source_directory='script_folder', \n",
    "                      script='script10.py', \n",
    "                      arguments =['--datadir', input_data,\n",
    "                                  '--epochs', epochs,\n",
    "                                  '--batch_size', batch_size,\n",
    "                                  '--drop_out', drop_out,\n",
    "                                  '--hidden_dim', hidden_dim,\n",
    "                                  '--layer_dim', layer_dim,\n",
    "                                  '--embedding_dim', embedding_dim,\n",
    "                                  '--vocab_size', vocab_size\n",
    "                                 ],\n",
    "                      compute_target=aml_compute,\n",
    "                      environment=myenv,\n",
    "                      docker_runtime_config=docker_config)"
   ]
  },
  {
   "cell_type": "markdown",
   "metadata": {},
   "source": [
    "<h4>実験を送信します</h4> "
   ]
  },
  {
   "cell_type": "code",
   "execution_count": null,
   "metadata": {},
   "outputs": [],
   "source": [
    "exp = Experiment(workspace, 'text_run_01')\n",
    "run = exp.submit(config=src)"
   ]
  },
  {
   "cell_type": "code",
   "execution_count": null,
   "metadata": {
    "scrolled": true
   },
   "outputs": [],
   "source": [
    "%%time\n",
    "run.wait_for_completion(show_output=True)"
   ]
  },
  {
   "cell_type": "markdown",
   "metadata": {},
   "source": [
    "<h4>アウトプットファイルの一覧を表示します</h4> "
   ]
  },
  {
   "cell_type": "code",
   "execution_count": null,
   "metadata": {},
   "outputs": [],
   "source": [
    "run.get_file_names()"
   ]
  },
  {
   "cell_type": "markdown",
   "metadata": {},
   "source": [
    "<h4>モデルをダウンロードします</h4> "
   ]
  },
  {
   "cell_type": "code",
   "execution_count": null,
   "metadata": {},
   "outputs": [],
   "source": [
    "os.makedirs('./models', exist_ok=True)\n",
    "\n",
    "for f in run.get_file_names():\n",
    "    if f.startswith('outputs/models/'):\n",
    "        output_file_path = os.path.join('./models', f.split('/')[-1])\n",
    "        print('Downloading from {} to {} ...'.format(f, output_file_path))\n",
    "        run.download_file(name=f, output_file_path=output_file_path)"
   ]
  }
 ],
 "metadata": {
  "kernelspec": {
   "display_name": "Python (text_env)",
   "language": "python",
   "name": "text_env"
  },
  "language_info": {
   "codemirror_mode": {
    "name": "ipython",
    "version": 3
   },
   "file_extension": ".py",
   "mimetype": "text/x-python",
   "name": "python",
   "nbconvert_exporter": "python",
   "pygments_lexer": "ipython3",
   "version": "3.6.13"
  }
 },
 "nbformat": 4,
 "nbformat_minor": 2
}
